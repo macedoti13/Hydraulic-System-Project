{
 "cells": [
  {
   "cell_type": "code",
   "execution_count": 1,
   "metadata": {},
   "outputs": [],
   "source": [
    "import numpy as np\n",
    "import pandas as pd\n",
    "\n",
    "reservoir_capacity = 1000 * 1000  # in liters\n",
    "POPULATION_SIZE = 100\n",
    "MUTATION_RATE = 0.1\n",
    "NUM_GENERATIONS = 100\n",
    "\n",
    "# Load and preprocess the data\n",
    "df = pd.read_parquet(\"../data/silver/states_dataset.parquet\")\n",
    "df['pump_active'] = ((df['pump_1_active']) | (df['pump_2_active'])).astype(int)\n",
    "df = df.drop(columns=['pump_1_active', 'pump_2_active', 'pump_1_duration_sum', 'pump_2_duration_sum'])\n",
    "df = df.iloc[72:]\n",
    "\n",
    "def calculate_reward(pump_schedule, state):\n",
    "    rewards = 0\n",
    "    current_reservoir_level = state['reservoir_level_percentage_mean'] * reservoir_capacity * 0.01\n",
    "\n",
    "    for hour, pump_status in enumerate(pump_schedule):\n",
    "        outflow_rate = state[f'forecast_output_flow_rate_{hour + 1}h'] * 3600  # Convert L/S to L/H\n",
    "        inflow_rate = state['input_flow_rate_mean'] * 3600  # Convert L/S to L/H\n",
    "\n",
    "        # Update the reservoir level based on inflow and outflow\n",
    "        new_reservoir_level = current_reservoir_level + inflow_rate - (outflow_rate * pump_status)\n",
    "\n",
    "        # Penalize if the reservoir goes below 20% or above 95%\n",
    "        if new_reservoir_level < 0.2 * reservoir_capacity:\n",
    "            rewards -= 50\n",
    "        elif new_reservoir_level > 0.95 * reservoir_capacity:\n",
    "            rewards -= 50\n",
    "        else:\n",
    "            # Reward for keeping the reservoir within the desired range\n",
    "            if new_reservoir_level <= 0.8 * reservoir_capacity:\n",
    "                rewards += (new_reservoir_level / (0.8 * reservoir_capacity)) * 50\n",
    "            else:\n",
    "                rewards += ((0.95 * reservoir_capacity - new_reservoir_level) / (0.15 * reservoir_capacity)) * 50\n",
    "\n",
    "        # Penalize for using the pump during peak hours (18h to 21h)\n",
    "        if 18 <= (state['hour'] + hour) % 24 <= 21 and pump_status == 1:\n",
    "            rewards -= 20\n",
    "        # Reward for using the pump during non-peak hours (0h to 5h)\n",
    "        elif 0 <= (state['hour'] + hour) % 24 <= 5 and pump_status == 1:\n",
    "            rewards += 20\n",
    "\n",
    "        # Reward for maintaining a good time_to_depletion\n",
    "        if state['time_to_depletion'] < 2:\n",
    "            rewards -= 20\n",
    "        elif state['time_to_depletion'] > 10:\n",
    "            rewards += 100\n",
    "        elif state['time_to_depletion'] > 6:\n",
    "            rewards += 50\n",
    "        elif state['time_to_depletion'] > 4:\n",
    "            rewards += 20\n",
    "\n",
    "        # Update the reservoir level\n",
    "        current_reservoir_level = new_reservoir_level\n",
    "\n",
    "    return rewards\n",
    "\n",
    "# Initialize the population with random pump schedules\n",
    "def initialize_population(size):\n",
    "    return [np.random.choice([0, 1], size=24) for _ in range(size)]\n",
    "\n",
    "# Select parents for crossover\n",
    "def select_parents(population, rewards):\n",
    "    min_reward = np.min(rewards)\n",
    "    shifted_rewards = rewards - min_reward + 1  # Shift rewards to make them non-negative\n",
    "    probabilities = shifted_rewards / np.sum(shifted_rewards)\n",
    "    parents_indices = np.random.choice(len(population), size=2, p=probabilities)\n",
    "    return population[parents_indices[0]], population[parents_indices[1]]\n",
    "\n",
    "# Perform crossover between two parents\n",
    "def crossover(parent1, parent2):\n",
    "    crossover_point = np.random.randint(1, 23)\n",
    "    child1 = np.concatenate([parent1[:crossover_point], parent2[crossover_point:]])\n",
    "    child2 = np.concatenate([parent2[:crossover_point], parent1[crossover_point:]])\n",
    "    return child1, child2\n",
    "\n",
    "# Mutate a child's pump schedule\n",
    "def mutate(child):\n",
    "    for i in range(len(child)):\n",
    "        if np.random.rand() < MUTATION_RATE:\n",
    "            child[i] = 1 - child[i]\n",
    "    return child\n",
    "\n",
    "def find_best_pump_schedule(year, month, day, hour):\n",
    "    timestamp = pd.Timestamp(year=year, month=month, day=day, hour=hour)\n",
    "    day_of_week = timestamp.dayofweek\n",
    "    week_of_year = timestamp.isocalendar().week\n",
    "\n",
    "    initial_state = df[(df['hour'] == hour) & (df['day_of_week'] == day_of_week) & (df['week_of_year'] == week_of_year)].iloc[0].to_dict()\n",
    "\n",
    "    # Run the genetic algorithm\n",
    "    population = initialize_population(POPULATION_SIZE)\n",
    "    best_schedule = None\n",
    "    best_reward = -np.inf\n",
    "\n",
    "    for generation in range(NUM_GENERATIONS):\n",
    "        rewards = np.array([calculate_reward(individual, initial_state) for individual in population])\n",
    "        \n",
    "        if rewards.max() > best_reward:\n",
    "            best_reward = rewards.max()\n",
    "            best_schedule = population[rewards.argmax()]\n",
    "        \n",
    "        new_population = []\n",
    "        \n",
    "        for _ in range(POPULATION_SIZE // 2):\n",
    "            parent1, parent2 = select_parents(population, rewards)\n",
    "            child1, child2 = crossover(parent1, parent2)\n",
    "            new_population.extend([mutate(child1), mutate(child2)])\n",
    "        \n",
    "        population = new_population\n",
    "\n",
    "    return best_schedule, best_reward"
   ]
  },
  {
   "cell_type": "code",
   "execution_count": 2,
   "metadata": {},
   "outputs": [],
   "source": [
    "import plotly.graph_objects as go"
   ]
  },
  {
   "cell_type": "code",
   "execution_count": 3,
   "metadata": {},
   "outputs": [
    {
     "name": "stdout",
     "output_type": "stream",
     "text": [
      "Best schedule: [1 1 1 1 1 1 1 1 1 1 1 1 1 1 1 0 1 0 0 0 0 0 1 0]\n",
      "Best reward: -642.6488471792143\n"
     ]
    }
   ],
   "source": [
    "# Example usage\n",
    "year = 2023\n",
    "month = 3\n",
    "day = 24\n",
    "hour = 17\n",
    "best_schedule, best_reward = find_best_pump_schedule(year, month, day, hour)\n",
    "print(f\"Best schedule: {best_schedule}\")\n",
    "print(f\"Best reward: {best_reward}\")"
   ]
  },
  {
   "cell_type": "code",
   "execution_count": 4,
   "metadata": {},
   "outputs": [],
   "source": [
    "def plot_pump_schedule(schedule):\n",
    "    horas = list(range(1, 25))\n",
    "    \n",
    "    fig = go.Figure()\n",
    "    \n",
    "    fig.add_trace(go.Scatter(\n",
    "        x=horas,\n",
    "        y=schedule,\n",
    "        mode='lines+markers',\n",
    "        name='Status da Bomba',\n",
    "        line=dict(color='royalblue', width=2),\n",
    "        marker=dict(color='royalblue', size=8)\n",
    "    ))\n",
    "    \n",
    "    fig.update_layout(\n",
    "        title='Programação das Bombas nas Próximas 24 Horas',\n",
    "        xaxis_title='Hora do Dia',\n",
    "        yaxis_title='Status da Bomba (1=Ligada, 0=Desligada)',\n",
    "        xaxis=dict(\n",
    "            tickmode='array',\n",
    "            tickvals=horas,\n",
    "            ticktext=[f'{h}h' for h in horas]\n",
    "        ),\n",
    "        yaxis=dict(\n",
    "            tickmode='array',\n",
    "            tickvals=[0, 1],\n",
    "            ticktext=['Desligada', 'Ligada']\n",
    "        ),\n",
    "        template='plotly_white',\n",
    "        showlegend=True\n",
    "    )\n",
    "\n",
    "    fig.update_traces(\n",
    "        marker=dict(size=12, line=dict(width=2, color='DarkSlateGrey')),\n",
    "        selector=dict(mode='markers')\n",
    "    )\n",
    "\n",
    "    fig.update_layout(\n",
    "        title_font=dict(size=24, family='Arial', color='DarkSlateGrey'),\n",
    "        xaxis_title_font=dict(size=20, family='Arial', color='DarkSlateGrey'),\n",
    "        yaxis_title_font=dict(size=20, family='Arial', color='DarkSlateGrey'),\n",
    "        legend=dict(\n",
    "            title='Legenda',\n",
    "            font=dict(size=16, family='Arial', color='DarkSlateGrey')\n",
    "        )\n",
    "    )\n",
    "    \n",
    "    fig_html = fig.to_html(full_html=False)\n",
    "    return fig_html"
   ]
  },
  {
   "cell_type": "code",
   "execution_count": 5,
   "metadata": {},
   "outputs": [
    {
     "data": {
      "application/vnd.plotly.v1+json": {
       "config": {
        "plotlyServerURL": "https://plot.ly"
       },
       "data": [
        {
         "line": {
          "color": "royalblue",
          "width": 2
         },
         "marker": {
          "color": "royalblue",
          "size": 8
         },
         "mode": "lines+markers",
         "name": "Status da Bomba",
         "type": "scatter",
         "x": [
          1,
          2,
          3,
          4,
          5,
          6,
          7,
          8,
          9,
          10,
          11,
          12,
          13,
          14,
          15,
          16,
          17,
          18,
          19,
          20,
          21,
          22,
          23,
          24
         ],
         "y": [
          1,
          1,
          1,
          1,
          1,
          1,
          1,
          1,
          1,
          1,
          1,
          1,
          1,
          1,
          1,
          0,
          1,
          0,
          0,
          0,
          0,
          0,
          1,
          0
         ]
        }
       ],
       "layout": {
        "legend": {
         "font": {
          "color": "DarkSlateGrey",
          "family": "Arial",
          "size": 16
         },
         "title": {
          "text": "Legenda"
         }
        },
        "showlegend": true,
        "template": {
         "data": {
          "bar": [
           {
            "error_x": {
             "color": "#2a3f5f"
            },
            "error_y": {
             "color": "#2a3f5f"
            },
            "marker": {
             "line": {
              "color": "white",
              "width": 0.5
             },
             "pattern": {
              "fillmode": "overlay",
              "size": 10,
              "solidity": 0.2
             }
            },
            "type": "bar"
           }
          ],
          "barpolar": [
           {
            "marker": {
             "line": {
              "color": "white",
              "width": 0.5
             },
             "pattern": {
              "fillmode": "overlay",
              "size": 10,
              "solidity": 0.2
             }
            },
            "type": "barpolar"
           }
          ],
          "carpet": [
           {
            "aaxis": {
             "endlinecolor": "#2a3f5f",
             "gridcolor": "#C8D4E3",
             "linecolor": "#C8D4E3",
             "minorgridcolor": "#C8D4E3",
             "startlinecolor": "#2a3f5f"
            },
            "baxis": {
             "endlinecolor": "#2a3f5f",
             "gridcolor": "#C8D4E3",
             "linecolor": "#C8D4E3",
             "minorgridcolor": "#C8D4E3",
             "startlinecolor": "#2a3f5f"
            },
            "type": "carpet"
           }
          ],
          "choropleth": [
           {
            "colorbar": {
             "outlinewidth": 0,
             "ticks": ""
            },
            "type": "choropleth"
           }
          ],
          "contour": [
           {
            "colorbar": {
             "outlinewidth": 0,
             "ticks": ""
            },
            "colorscale": [
             [
              0,
              "#0d0887"
             ],
             [
              0.1111111111111111,
              "#46039f"
             ],
             [
              0.2222222222222222,
              "#7201a8"
             ],
             [
              0.3333333333333333,
              "#9c179e"
             ],
             [
              0.4444444444444444,
              "#bd3786"
             ],
             [
              0.5555555555555556,
              "#d8576b"
             ],
             [
              0.6666666666666666,
              "#ed7953"
             ],
             [
              0.7777777777777778,
              "#fb9f3a"
             ],
             [
              0.8888888888888888,
              "#fdca26"
             ],
             [
              1,
              "#f0f921"
             ]
            ],
            "type": "contour"
           }
          ],
          "contourcarpet": [
           {
            "colorbar": {
             "outlinewidth": 0,
             "ticks": ""
            },
            "type": "contourcarpet"
           }
          ],
          "heatmap": [
           {
            "colorbar": {
             "outlinewidth": 0,
             "ticks": ""
            },
            "colorscale": [
             [
              0,
              "#0d0887"
             ],
             [
              0.1111111111111111,
              "#46039f"
             ],
             [
              0.2222222222222222,
              "#7201a8"
             ],
             [
              0.3333333333333333,
              "#9c179e"
             ],
             [
              0.4444444444444444,
              "#bd3786"
             ],
             [
              0.5555555555555556,
              "#d8576b"
             ],
             [
              0.6666666666666666,
              "#ed7953"
             ],
             [
              0.7777777777777778,
              "#fb9f3a"
             ],
             [
              0.8888888888888888,
              "#fdca26"
             ],
             [
              1,
              "#f0f921"
             ]
            ],
            "type": "heatmap"
           }
          ],
          "heatmapgl": [
           {
            "colorbar": {
             "outlinewidth": 0,
             "ticks": ""
            },
            "colorscale": [
             [
              0,
              "#0d0887"
             ],
             [
              0.1111111111111111,
              "#46039f"
             ],
             [
              0.2222222222222222,
              "#7201a8"
             ],
             [
              0.3333333333333333,
              "#9c179e"
             ],
             [
              0.4444444444444444,
              "#bd3786"
             ],
             [
              0.5555555555555556,
              "#d8576b"
             ],
             [
              0.6666666666666666,
              "#ed7953"
             ],
             [
              0.7777777777777778,
              "#fb9f3a"
             ],
             [
              0.8888888888888888,
              "#fdca26"
             ],
             [
              1,
              "#f0f921"
             ]
            ],
            "type": "heatmapgl"
           }
          ],
          "histogram": [
           {
            "marker": {
             "pattern": {
              "fillmode": "overlay",
              "size": 10,
              "solidity": 0.2
             }
            },
            "type": "histogram"
           }
          ],
          "histogram2d": [
           {
            "colorbar": {
             "outlinewidth": 0,
             "ticks": ""
            },
            "colorscale": [
             [
              0,
              "#0d0887"
             ],
             [
              0.1111111111111111,
              "#46039f"
             ],
             [
              0.2222222222222222,
              "#7201a8"
             ],
             [
              0.3333333333333333,
              "#9c179e"
             ],
             [
              0.4444444444444444,
              "#bd3786"
             ],
             [
              0.5555555555555556,
              "#d8576b"
             ],
             [
              0.6666666666666666,
              "#ed7953"
             ],
             [
              0.7777777777777778,
              "#fb9f3a"
             ],
             [
              0.8888888888888888,
              "#fdca26"
             ],
             [
              1,
              "#f0f921"
             ]
            ],
            "type": "histogram2d"
           }
          ],
          "histogram2dcontour": [
           {
            "colorbar": {
             "outlinewidth": 0,
             "ticks": ""
            },
            "colorscale": [
             [
              0,
              "#0d0887"
             ],
             [
              0.1111111111111111,
              "#46039f"
             ],
             [
              0.2222222222222222,
              "#7201a8"
             ],
             [
              0.3333333333333333,
              "#9c179e"
             ],
             [
              0.4444444444444444,
              "#bd3786"
             ],
             [
              0.5555555555555556,
              "#d8576b"
             ],
             [
              0.6666666666666666,
              "#ed7953"
             ],
             [
              0.7777777777777778,
              "#fb9f3a"
             ],
             [
              0.8888888888888888,
              "#fdca26"
             ],
             [
              1,
              "#f0f921"
             ]
            ],
            "type": "histogram2dcontour"
           }
          ],
          "mesh3d": [
           {
            "colorbar": {
             "outlinewidth": 0,
             "ticks": ""
            },
            "type": "mesh3d"
           }
          ],
          "parcoords": [
           {
            "line": {
             "colorbar": {
              "outlinewidth": 0,
              "ticks": ""
             }
            },
            "type": "parcoords"
           }
          ],
          "pie": [
           {
            "automargin": true,
            "type": "pie"
           }
          ],
          "scatter": [
           {
            "fillpattern": {
             "fillmode": "overlay",
             "size": 10,
             "solidity": 0.2
            },
            "type": "scatter"
           }
          ],
          "scatter3d": [
           {
            "line": {
             "colorbar": {
              "outlinewidth": 0,
              "ticks": ""
             }
            },
            "marker": {
             "colorbar": {
              "outlinewidth": 0,
              "ticks": ""
             }
            },
            "type": "scatter3d"
           }
          ],
          "scattercarpet": [
           {
            "marker": {
             "colorbar": {
              "outlinewidth": 0,
              "ticks": ""
             }
            },
            "type": "scattercarpet"
           }
          ],
          "scattergeo": [
           {
            "marker": {
             "colorbar": {
              "outlinewidth": 0,
              "ticks": ""
             }
            },
            "type": "scattergeo"
           }
          ],
          "scattergl": [
           {
            "marker": {
             "colorbar": {
              "outlinewidth": 0,
              "ticks": ""
             }
            },
            "type": "scattergl"
           }
          ],
          "scattermapbox": [
           {
            "marker": {
             "colorbar": {
              "outlinewidth": 0,
              "ticks": ""
             }
            },
            "type": "scattermapbox"
           }
          ],
          "scatterpolar": [
           {
            "marker": {
             "colorbar": {
              "outlinewidth": 0,
              "ticks": ""
             }
            },
            "type": "scatterpolar"
           }
          ],
          "scatterpolargl": [
           {
            "marker": {
             "colorbar": {
              "outlinewidth": 0,
              "ticks": ""
             }
            },
            "type": "scatterpolargl"
           }
          ],
          "scatterternary": [
           {
            "marker": {
             "colorbar": {
              "outlinewidth": 0,
              "ticks": ""
             }
            },
            "type": "scatterternary"
           }
          ],
          "surface": [
           {
            "colorbar": {
             "outlinewidth": 0,
             "ticks": ""
            },
            "colorscale": [
             [
              0,
              "#0d0887"
             ],
             [
              0.1111111111111111,
              "#46039f"
             ],
             [
              0.2222222222222222,
              "#7201a8"
             ],
             [
              0.3333333333333333,
              "#9c179e"
             ],
             [
              0.4444444444444444,
              "#bd3786"
             ],
             [
              0.5555555555555556,
              "#d8576b"
             ],
             [
              0.6666666666666666,
              "#ed7953"
             ],
             [
              0.7777777777777778,
              "#fb9f3a"
             ],
             [
              0.8888888888888888,
              "#fdca26"
             ],
             [
              1,
              "#f0f921"
             ]
            ],
            "type": "surface"
           }
          ],
          "table": [
           {
            "cells": {
             "fill": {
              "color": "#EBF0F8"
             },
             "line": {
              "color": "white"
             }
            },
            "header": {
             "fill": {
              "color": "#C8D4E3"
             },
             "line": {
              "color": "white"
             }
            },
            "type": "table"
           }
          ]
         },
         "layout": {
          "annotationdefaults": {
           "arrowcolor": "#2a3f5f",
           "arrowhead": 0,
           "arrowwidth": 1
          },
          "autotypenumbers": "strict",
          "coloraxis": {
           "colorbar": {
            "outlinewidth": 0,
            "ticks": ""
           }
          },
          "colorscale": {
           "diverging": [
            [
             0,
             "#8e0152"
            ],
            [
             0.1,
             "#c51b7d"
            ],
            [
             0.2,
             "#de77ae"
            ],
            [
             0.3,
             "#f1b6da"
            ],
            [
             0.4,
             "#fde0ef"
            ],
            [
             0.5,
             "#f7f7f7"
            ],
            [
             0.6,
             "#e6f5d0"
            ],
            [
             0.7,
             "#b8e186"
            ],
            [
             0.8,
             "#7fbc41"
            ],
            [
             0.9,
             "#4d9221"
            ],
            [
             1,
             "#276419"
            ]
           ],
           "sequential": [
            [
             0,
             "#0d0887"
            ],
            [
             0.1111111111111111,
             "#46039f"
            ],
            [
             0.2222222222222222,
             "#7201a8"
            ],
            [
             0.3333333333333333,
             "#9c179e"
            ],
            [
             0.4444444444444444,
             "#bd3786"
            ],
            [
             0.5555555555555556,
             "#d8576b"
            ],
            [
             0.6666666666666666,
             "#ed7953"
            ],
            [
             0.7777777777777778,
             "#fb9f3a"
            ],
            [
             0.8888888888888888,
             "#fdca26"
            ],
            [
             1,
             "#f0f921"
            ]
           ],
           "sequentialminus": [
            [
             0,
             "#0d0887"
            ],
            [
             0.1111111111111111,
             "#46039f"
            ],
            [
             0.2222222222222222,
             "#7201a8"
            ],
            [
             0.3333333333333333,
             "#9c179e"
            ],
            [
             0.4444444444444444,
             "#bd3786"
            ],
            [
             0.5555555555555556,
             "#d8576b"
            ],
            [
             0.6666666666666666,
             "#ed7953"
            ],
            [
             0.7777777777777778,
             "#fb9f3a"
            ],
            [
             0.8888888888888888,
             "#fdca26"
            ],
            [
             1,
             "#f0f921"
            ]
           ]
          },
          "colorway": [
           "#636efa",
           "#EF553B",
           "#00cc96",
           "#ab63fa",
           "#FFA15A",
           "#19d3f3",
           "#FF6692",
           "#B6E880",
           "#FF97FF",
           "#FECB52"
          ],
          "font": {
           "color": "#2a3f5f"
          },
          "geo": {
           "bgcolor": "white",
           "lakecolor": "white",
           "landcolor": "white",
           "showlakes": true,
           "showland": true,
           "subunitcolor": "#C8D4E3"
          },
          "hoverlabel": {
           "align": "left"
          },
          "hovermode": "closest",
          "mapbox": {
           "style": "light"
          },
          "paper_bgcolor": "white",
          "plot_bgcolor": "white",
          "polar": {
           "angularaxis": {
            "gridcolor": "#EBF0F8",
            "linecolor": "#EBF0F8",
            "ticks": ""
           },
           "bgcolor": "white",
           "radialaxis": {
            "gridcolor": "#EBF0F8",
            "linecolor": "#EBF0F8",
            "ticks": ""
           }
          },
          "scene": {
           "xaxis": {
            "backgroundcolor": "white",
            "gridcolor": "#DFE8F3",
            "gridwidth": 2,
            "linecolor": "#EBF0F8",
            "showbackground": true,
            "ticks": "",
            "zerolinecolor": "#EBF0F8"
           },
           "yaxis": {
            "backgroundcolor": "white",
            "gridcolor": "#DFE8F3",
            "gridwidth": 2,
            "linecolor": "#EBF0F8",
            "showbackground": true,
            "ticks": "",
            "zerolinecolor": "#EBF0F8"
           },
           "zaxis": {
            "backgroundcolor": "white",
            "gridcolor": "#DFE8F3",
            "gridwidth": 2,
            "linecolor": "#EBF0F8",
            "showbackground": true,
            "ticks": "",
            "zerolinecolor": "#EBF0F8"
           }
          },
          "shapedefaults": {
           "line": {
            "color": "#2a3f5f"
           }
          },
          "ternary": {
           "aaxis": {
            "gridcolor": "#DFE8F3",
            "linecolor": "#A2B1C6",
            "ticks": ""
           },
           "baxis": {
            "gridcolor": "#DFE8F3",
            "linecolor": "#A2B1C6",
            "ticks": ""
           },
           "bgcolor": "white",
           "caxis": {
            "gridcolor": "#DFE8F3",
            "linecolor": "#A2B1C6",
            "ticks": ""
           }
          },
          "title": {
           "x": 0.05
          },
          "xaxis": {
           "automargin": true,
           "gridcolor": "#EBF0F8",
           "linecolor": "#EBF0F8",
           "ticks": "",
           "title": {
            "standoff": 15
           },
           "zerolinecolor": "#EBF0F8",
           "zerolinewidth": 2
          },
          "yaxis": {
           "automargin": true,
           "gridcolor": "#EBF0F8",
           "linecolor": "#EBF0F8",
           "ticks": "",
           "title": {
            "standoff": 15
           },
           "zerolinecolor": "#EBF0F8",
           "zerolinewidth": 2
          }
         }
        },
        "title": {
         "font": {
          "color": "DarkSlateGrey",
          "family": "Arial",
          "size": 24
         },
         "text": "Programação das Bombas nas Próximas 24 Horas"
        },
        "xaxis": {
         "tickmode": "array",
         "ticktext": [
          "1h",
          "2h",
          "3h",
          "4h",
          "5h",
          "6h",
          "7h",
          "8h",
          "9h",
          "10h",
          "11h",
          "12h",
          "13h",
          "14h",
          "15h",
          "16h",
          "17h",
          "18h",
          "19h",
          "20h",
          "21h",
          "22h",
          "23h",
          "24h"
         ],
         "tickvals": [
          1,
          2,
          3,
          4,
          5,
          6,
          7,
          8,
          9,
          10,
          11,
          12,
          13,
          14,
          15,
          16,
          17,
          18,
          19,
          20,
          21,
          22,
          23,
          24
         ],
         "title": {
          "font": {
           "color": "DarkSlateGrey",
           "family": "Arial",
           "size": 20
          },
          "text": "Hora do Dia"
         }
        },
        "yaxis": {
         "tickmode": "array",
         "ticktext": [
          "Desligada",
          "Ligada"
         ],
         "tickvals": [
          0,
          1
         ],
         "title": {
          "font": {
           "color": "DarkSlateGrey",
           "family": "Arial",
           "size": 20
          },
          "text": "Status da Bomba (1=Ligada, 0=Desligada)"
         }
        }
       }
      }
     },
     "metadata": {},
     "output_type": "display_data"
    }
   ],
   "source": [
    "plot_pump_schedule(best_schedule)"
   ]
  }
 ],
 "metadata": {
  "kernelspec": {
   "display_name": "pcd",
   "language": "python",
   "name": "python3"
  },
  "language_info": {
   "codemirror_mode": {
    "name": "ipython",
    "version": 3
   },
   "file_extension": ".py",
   "mimetype": "text/x-python",
   "name": "python",
   "nbconvert_exporter": "python",
   "pygments_lexer": "ipython3",
   "version": "3.12.2"
  }
 },
 "nbformat": 4,
 "nbformat_minor": 2
}
