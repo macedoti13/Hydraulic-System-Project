{
 "cells": [
  {
   "cell_type": "code",
   "execution_count": 1,
   "metadata": {},
   "outputs": [],
   "source": [
    "import pandas as pd \n",
    "pd.set_option('display.max_columns', None)\n",
    "pd.set_option('display.max_rows', None)"
   ]
  },
  {
   "cell_type": "code",
   "execution_count": 2,
   "metadata": {},
   "outputs": [],
   "source": [
    "\n",
    "def answer_question_3():\n",
    "    df = pd.read_parquet(\"../data/silver/water_consumption_silver.parquet\")\n",
    "    df = df[['timestamp', 'day', 'hour', 'pump_1_duration_sum', 'pump_2_duration_sum', 'inputed_row']]\n",
    "    df['date'] = df.timestamp.dt.date\n",
    "    peak_hours = (df[\"hour\"] >= 18) & (df[\"hour\"] <= 21)\n",
    "    df[\"is_peak_hour\"] = peak_hours\n",
    "    daily_peak_usage = df[(df.inputed_row==False)&(df['is_peak_hour'])].groupby('date').agg({'pump_1_duration_sum': 'sum', 'pump_2_duration_sum': 'sum'})\n",
    "    daily_off_peak_usage = df[(df.inputed_row==False)&(~df['is_peak_hour'])].groupby('date').agg({'pump_1_duration_sum': 'sum', 'pump_2_duration_sum': 'sum'})\n",
    "    gmb_1_peak_avg = daily_peak_usage['pump_1_duration_sum'].mean() / 60\n",
    "    gmb_1_off_peak_avg = daily_off_peak_usage['pump_1_duration_sum'].mean() / 60\n",
    "    gmb_2_peak_avg = daily_peak_usage['pump_2_duration_sum'].mean() / 60\n",
    "    gmb_2_off_peak_avg = daily_off_peak_usage['pump_2_duration_sum'].mean() / 60 \n",
    "    def convert_to_hours_and_minutes(minutes):\n",
    "        if pd.isna(minutes):\n",
    "            return \"0 hours and 0 minutes\"\n",
    "        total_minutes = int(minutes)\n",
    "        hours = total_minutes // 60\n",
    "        minutes = total_minutes % 60\n",
    "        return f\"{hours} hours and {minutes} minutes\"\n",
    "\n",
    "    data = {\n",
    "        'pump': ['pump_1', 'pump_2'],\n",
    "        'average_time_used_peak_hours': [\n",
    "            convert_to_hours_and_minutes(gmb_1_peak_avg), \n",
    "            convert_to_hours_and_minutes(gmb_2_peak_avg)\n",
    "        ],\n",
    "        'average_time_used_offpeak_hours': [\n",
    "            convert_to_hours_and_minutes(gmb_1_off_peak_avg), \n",
    "            convert_to_hours_and_minutes(gmb_2_off_peak_avg)\n",
    "        ]\n",
    "    }\n",
    "    data = pd.DataFrame(data)\n",
    "    data.to_parquet(\"../data/gold/answer_question_3.parquet\")"
   ]
  },
  {
   "cell_type": "code",
   "execution_count": 3,
   "metadata": {},
   "outputs": [
    {
     "data": {
      "text/html": [
       "<div>\n",
       "<style scoped>\n",
       "    .dataframe tbody tr th:only-of-type {\n",
       "        vertical-align: middle;\n",
       "    }\n",
       "\n",
       "    .dataframe tbody tr th {\n",
       "        vertical-align: top;\n",
       "    }\n",
       "\n",
       "    .dataframe thead th {\n",
       "        text-align: right;\n",
       "    }\n",
       "</style>\n",
       "<table border=\"1\" class=\"dataframe\">\n",
       "  <thead>\n",
       "    <tr style=\"text-align: right;\">\n",
       "      <th></th>\n",
       "      <th>pump</th>\n",
       "      <th>average_time_used_peak_hours</th>\n",
       "      <th>average_time_used_offpeak_hours</th>\n",
       "    </tr>\n",
       "  </thead>\n",
       "  <tbody>\n",
       "    <tr>\n",
       "      <th>0</th>\n",
       "      <td>pump_1</td>\n",
       "      <td>1 hours and 14 minutes</td>\n",
       "      <td>6 hours and 39 minutes</td>\n",
       "    </tr>\n",
       "    <tr>\n",
       "      <th>1</th>\n",
       "      <td>pump_2</td>\n",
       "      <td>0 hours and 54 minutes</td>\n",
       "      <td>4 hours and 13 minutes</td>\n",
       "    </tr>\n",
       "  </tbody>\n",
       "</table>\n",
       "</div>"
      ],
      "text/plain": [
       "     pump average_time_used_peak_hours average_time_used_offpeak_hours\n",
       "0  pump_1       1 hours and 14 minutes          6 hours and 39 minutes\n",
       "1  pump_2       0 hours and 54 minutes          4 hours and 13 minutes"
      ]
     },
     "execution_count": 3,
     "metadata": {},
     "output_type": "execute_result"
    }
   ],
   "source": [
    "data"
   ]
  }
 ],
 "metadata": {
  "kernelspec": {
   "display_name": "pcd",
   "language": "python",
   "name": "python3"
  },
  "language_info": {
   "codemirror_mode": {
    "name": "ipython",
    "version": 3
   },
   "file_extension": ".py",
   "mimetype": "text/x-python",
   "name": "python",
   "nbconvert_exporter": "python",
   "pygments_lexer": "ipython3",
   "version": "3.12.2"
  }
 },
 "nbformat": 4,
 "nbformat_minor": 2
}
