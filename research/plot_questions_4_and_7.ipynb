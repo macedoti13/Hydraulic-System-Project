{
 "cells": [
  {
   "cell_type": "code",
   "execution_count": 1,
   "metadata": {},
   "outputs": [],
   "source": [
    "import plotly.graph_objects as go\n",
    "import pandas as pd\n",
    "pd.set_option('display.max_columns', None)\n",
    "pd.set_option('display.max_rows', None)"
   ]
  },
  {
   "cell_type": "code",
   "execution_count": 6,
   "metadata": {},
   "outputs": [
    {
     "data": {
      "text/html": [
       "<div>\n",
       "<style scoped>\n",
       "    .dataframe tbody tr th:only-of-type {\n",
       "        vertical-align: middle;\n",
       "    }\n",
       "\n",
       "    .dataframe tbody tr th {\n",
       "        vertical-align: top;\n",
       "    }\n",
       "\n",
       "    .dataframe thead th {\n",
       "        text-align: right;\n",
       "    }\n",
       "</style>\n",
       "<table border=\"1\" class=\"dataframe\">\n",
       "  <thead>\n",
       "    <tr style=\"text-align: right;\">\n",
       "      <th></th>\n",
       "      <th>timestamp</th>\n",
       "      <th>output_flow_rate_mean_no_weather</th>\n",
       "      <th>output_flow_rate_mean_weather</th>\n",
       "      <th>forecasted</th>\n",
       "    </tr>\n",
       "  </thead>\n",
       "  <tbody>\n",
       "    <tr>\n",
       "      <th>0</th>\n",
       "      <td>2023-11-10 14:00:00</td>\n",
       "      <td>73.692345</td>\n",
       "      <td>73.692345</td>\n",
       "      <td>False</td>\n",
       "    </tr>\n",
       "    <tr>\n",
       "      <th>1</th>\n",
       "      <td>2023-11-10 15:00:00</td>\n",
       "      <td>73.692345</td>\n",
       "      <td>73.692345</td>\n",
       "      <td>False</td>\n",
       "    </tr>\n",
       "    <tr>\n",
       "      <th>2</th>\n",
       "      <td>2023-11-10 16:00:00</td>\n",
       "      <td>73.692345</td>\n",
       "      <td>73.692345</td>\n",
       "      <td>False</td>\n",
       "    </tr>\n",
       "    <tr>\n",
       "      <th>3</th>\n",
       "      <td>2023-11-10 17:00:00</td>\n",
       "      <td>73.692345</td>\n",
       "      <td>73.692345</td>\n",
       "      <td>False</td>\n",
       "    </tr>\n",
       "    <tr>\n",
       "      <th>4</th>\n",
       "      <td>2023-11-10 18:00:00</td>\n",
       "      <td>73.692345</td>\n",
       "      <td>73.692345</td>\n",
       "      <td>False</td>\n",
       "    </tr>\n",
       "  </tbody>\n",
       "</table>\n",
       "</div>"
      ],
      "text/plain": [
       "            timestamp  output_flow_rate_mean_no_weather  \\\n",
       "0 2023-11-10 14:00:00                         73.692345   \n",
       "1 2023-11-10 15:00:00                         73.692345   \n",
       "2 2023-11-10 16:00:00                         73.692345   \n",
       "3 2023-11-10 17:00:00                         73.692345   \n",
       "4 2023-11-10 18:00:00                         73.692345   \n",
       "\n",
       "   output_flow_rate_mean_weather  forecasted  \n",
       "0                      73.692345       False  \n",
       "1                      73.692345       False  \n",
       "2                      73.692345       False  \n",
       "3                      73.692345       False  \n",
       "4                      73.692345       False  "
      ]
     },
     "execution_count": 6,
     "metadata": {},
     "output_type": "execute_result"
    }
   ],
   "source": [
    "df = pd.read_parquet(\"../data/gold/questions_4_and_7_answers.parquet\")\n",
    "df.head()"
   ]
  },
  {
   "cell_type": "code",
   "execution_count": 7,
   "metadata": {},
   "outputs": [],
   "source": [
    "def create_questions_4_and_7_plot_1(input_df):\n",
    "    df = input_df.copy()\n",
    "    real_data = df[df.forecasted==False]\n",
    "    forecasted_data = df[df.forecasted==True]\n",
    "\n",
    "    fig = go.Figure()\n",
    "    fig.add_trace(go.Scatter(x=real_data.timestamp, y=real_data.output_flow_rate_mean_no_weather, mode='lines+markers', name='Ultimas 24 horas', line=dict(color='blue')))\n",
    "    fig.add_trace(go.Scatter(x=forecasted_data.timestamp, y=forecasted_data.output_flow_rate_mean_no_weather, mode='lines+markers', name='Previsao Proximas 24 horas sem dados meterologicos', line=dict(color='red')))\n",
    "    fig.add_trace(go.Scatter(x=forecasted_data.timestamp, y=forecasted_data.output_flow_rate_mean_weather, mode='lines+markers', name='Previsao Proximas 24 horas com dados meterologicos', line=dict(color='green')))\n",
    "    fig.update_layout(title={'text': 'Previsao da Saida de Agua', 'x': 0.5, 'xanchor': 'center'}, xaxis_title='Horario', yaxis_title='Saida de Agua (L/s)', legend_title='Type')\n",
    "    return fig"
   ]
  },
  {
   "cell_type": "code",
   "execution_count": 8,
   "metadata": {},
   "outputs": [
    {
     "data": {
      "application/vnd.plotly.v1+json": {
       "config": {
        "plotlyServerURL": "https://plot.ly"
       },
       "data": [
        {
         "line": {
          "color": "blue"
         },
         "mode": "lines+markers",
         "name": "Ultimas 24 horas",
         "type": "scatter",
         "x": [
          "2023-11-10T14:00:00",
          "2023-11-10T15:00:00",
          "2023-11-10T16:00:00",
          "2023-11-10T17:00:00",
          "2023-11-10T18:00:00",
          "2023-11-10T19:00:00",
          "2023-11-10T20:00:00",
          "2023-11-10T21:00:00",
          "2023-11-10T22:00:00",
          "2023-11-10T23:00:00",
          "2023-11-11T00:00:00",
          "2023-11-11T01:00:00",
          "2023-11-11T02:00:00",
          "2023-11-11T03:00:00",
          "2023-11-11T04:00:00",
          "2023-11-11T05:00:00",
          "2023-11-11T06:00:00",
          "2023-11-11T07:00:00",
          "2023-11-11T08:00:00",
          "2023-11-11T09:00:00",
          "2023-11-11T10:00:00",
          "2023-11-11T11:00:00",
          "2023-11-11T12:00:00",
          "2023-11-11T13:00:00",
          "2023-11-11T14:00:00",
          "2023-11-11T15:00:00",
          "2023-11-11T16:00:00",
          "2023-11-11T17:00:00",
          "2023-11-11T18:00:00",
          "2023-11-11T19:00:00",
          "2023-11-11T20:00:00",
          "2023-11-11T21:00:00",
          "2023-11-11T22:00:00",
          "2023-11-11T23:00:00",
          "2023-11-12T00:00:00",
          "2023-11-12T01:00:00",
          "2023-11-12T02:00:00",
          "2023-11-12T03:00:00",
          "2023-11-12T04:00:00",
          "2023-11-12T05:00:00",
          "2023-11-12T06:00:00",
          "2023-11-12T07:00:00",
          "2023-11-12T08:00:00",
          "2023-11-12T09:00:00",
          "2023-11-12T10:00:00",
          "2023-11-12T11:00:00",
          "2023-11-12T12:00:00",
          "2023-11-12T13:00:00",
          "2023-11-12T14:00:00",
          "2023-11-12T15:00:00",
          "2023-11-12T16:00:00",
          "2023-11-12T17:00:00",
          "2023-11-12T18:00:00",
          "2023-11-12T19:00:00",
          "2023-11-12T20:00:00",
          "2023-11-12T21:00:00",
          "2023-11-12T22:00:00",
          "2023-11-12T23:00:00",
          "2023-11-13T00:00:00",
          "2023-11-13T01:00:00",
          "2023-11-13T02:00:00",
          "2023-11-13T03:00:00",
          "2023-11-13T04:00:00",
          "2023-11-13T05:00:00",
          "2023-11-13T06:00:00",
          "2023-11-13T07:00:00",
          "2023-11-13T08:00:00",
          "2023-11-13T09:00:00",
          "2023-11-13T10:00:00",
          "2023-11-13T11:00:00",
          "2023-11-13T12:00:00",
          "2023-11-13T13:00:00"
         ],
         "y": [
          73.69234507034047,
          73.69234507034047,
          73.69234507034047,
          73.69234507034047,
          73.69234507034047,
          73.69234507034047,
          73.69234507034047,
          73.69234507034047,
          73.69234507034047,
          73.69234507034047,
          73.69234507034047,
          73.69234507034047,
          73.69234507034047,
          73.69234507034047,
          73.69234507034047,
          73.69234507034047,
          73.69234507034047,
          73.69234507034047,
          73.69234507034047,
          73.69234507034047,
          73.69234507034047,
          73.69234507034047,
          73.69234507034047,
          73.69234507034047,
          37.029832082843,
          0.3673190953455423,
          0.3673190953455423,
          0.3673190953455423,
          0.3673190953455423,
          0.3673190953455423,
          0.3673190953455423,
          0.3673190953455423,
          0.3673190953455423,
          0.3673190953455423,
          0.3673190953455423,
          0.3673190953455423,
          0.3673190953455423,
          0.3673190953455423,
          0.3673190953455423,
          0.3673190953455423,
          0.3673190953455423,
          0.3673190953455423,
          0.3673190953455423,
          0.3673190953455423,
          0.3673190953455423,
          0.3673190953455423,
          0.3673190953455423,
          0.3673190953455423,
          0.3673190953455423,
          0.3673190953455423,
          0.3673190953455423,
          0.3673190953455423,
          0.3673190953455423,
          0.3673190953455423,
          0.3673190953455423,
          0.3673190953455423,
          2.444304664850255,
          4.521290234354968,
          4.521290234354968,
          4.521290234354968,
          4.521290234354968,
          4.521290234354968,
          4.521290234354968,
          4.521290234354968,
          4.521290234354968,
          4.521290234354968,
          4.521290234354968,
          4.521290234354968,
          4.521290234354968,
          4.521290234354968,
          4.521290234354968,
          4.521290234354968
         ]
        },
        {
         "line": {
          "color": "red"
         },
         "mode": "lines+markers",
         "name": "Previsao Proximas 24 horas sem dados meterologicos",
         "type": "scatter",
         "x": [
          "2023-11-13T14:00:00",
          "2023-11-13T15:00:00",
          "2023-11-13T16:00:00",
          "2023-11-13T17:00:00",
          "2023-11-13T18:00:00",
          "2023-11-13T19:00:00",
          "2023-11-13T20:00:00",
          "2023-11-13T21:00:00",
          "2023-11-13T22:00:00",
          "2023-11-13T23:00:00",
          "2023-11-14T00:00:00",
          "2023-11-14T01:00:00",
          "2023-11-14T02:00:00",
          "2023-11-14T03:00:00",
          "2023-11-14T04:00:00",
          "2023-11-14T05:00:00",
          "2023-11-14T06:00:00",
          "2023-11-14T07:00:00",
          "2023-11-14T08:00:00",
          "2023-11-14T09:00:00",
          "2023-11-14T10:00:00",
          "2023-11-14T11:00:00",
          "2023-11-14T12:00:00",
          "2023-11-14T13:00:00"
         ],
         "y": [
          5.950603774813647,
          5.778018347052569,
          8.420989624289508,
          8.815168759850497,
          8.02611591580295,
          8.90960516693973,
          9.88828816178226,
          8.979420623806948,
          9.638116381196017,
          10.626949689415927,
          10.443488634256358,
          8.43218330207252,
          10.241851366189952,
          9.109184897569651,
          8.724651015428538,
          9.516444361833567,
          9.94713342848205,
          10.51452857914352,
          9.891063160327906,
          9.931724912551875,
          10.295637405542369,
          11.52847842040443,
          11.737831062702174,
          11.225461429981227
         ]
        },
        {
         "line": {
          "color": "green"
         },
         "mode": "lines+markers",
         "name": "Previsao Proximas 24 horas com dados meterologicos",
         "type": "scatter",
         "x": [
          "2023-11-13T14:00:00",
          "2023-11-13T15:00:00",
          "2023-11-13T16:00:00",
          "2023-11-13T17:00:00",
          "2023-11-13T18:00:00",
          "2023-11-13T19:00:00",
          "2023-11-13T20:00:00",
          "2023-11-13T21:00:00",
          "2023-11-13T22:00:00",
          "2023-11-13T23:00:00",
          "2023-11-14T00:00:00",
          "2023-11-14T01:00:00",
          "2023-11-14T02:00:00",
          "2023-11-14T03:00:00",
          "2023-11-14T04:00:00",
          "2023-11-14T05:00:00",
          "2023-11-14T06:00:00",
          "2023-11-14T07:00:00",
          "2023-11-14T08:00:00",
          "2023-11-14T09:00:00",
          "2023-11-14T10:00:00",
          "2023-11-14T11:00:00",
          "2023-11-14T12:00:00",
          "2023-11-14T13:00:00"
         ],
         "y": [
          6.073549917963977,
          4.186623743800158,
          6.471615783003802,
          7.203708878783221,
          8.961888424185748,
          7.290078840283389,
          8.195854983357425,
          8.969684860733981,
          6.881425342587466,
          9.778128511337275,
          10.119211576012606,
          9.962097830204005,
          8.312652899948592,
          8.561003959802623,
          8.83145920100593,
          10.26701406302833,
          9.858777559427256,
          10.600097603229518,
          11.458769983676905,
          8.864668197063441,
          11.223666078475947,
          10.234722483036752,
          13.016249335435862,
          11.007608420280452
         ]
        }
       ],
       "layout": {
        "legend": {
         "title": {
          "text": "Type"
         }
        },
        "template": {
         "data": {
          "bar": [
           {
            "error_x": {
             "color": "#2a3f5f"
            },
            "error_y": {
             "color": "#2a3f5f"
            },
            "marker": {
             "line": {
              "color": "#E5ECF6",
              "width": 0.5
             },
             "pattern": {
              "fillmode": "overlay",
              "size": 10,
              "solidity": 0.2
             }
            },
            "type": "bar"
           }
          ],
          "barpolar": [
           {
            "marker": {
             "line": {
              "color": "#E5ECF6",
              "width": 0.5
             },
             "pattern": {
              "fillmode": "overlay",
              "size": 10,
              "solidity": 0.2
             }
            },
            "type": "barpolar"
           }
          ],
          "carpet": [
           {
            "aaxis": {
             "endlinecolor": "#2a3f5f",
             "gridcolor": "white",
             "linecolor": "white",
             "minorgridcolor": "white",
             "startlinecolor": "#2a3f5f"
            },
            "baxis": {
             "endlinecolor": "#2a3f5f",
             "gridcolor": "white",
             "linecolor": "white",
             "minorgridcolor": "white",
             "startlinecolor": "#2a3f5f"
            },
            "type": "carpet"
           }
          ],
          "choropleth": [
           {
            "colorbar": {
             "outlinewidth": 0,
             "ticks": ""
            },
            "type": "choropleth"
           }
          ],
          "contour": [
           {
            "colorbar": {
             "outlinewidth": 0,
             "ticks": ""
            },
            "colorscale": [
             [
              0,
              "#0d0887"
             ],
             [
              0.1111111111111111,
              "#46039f"
             ],
             [
              0.2222222222222222,
              "#7201a8"
             ],
             [
              0.3333333333333333,
              "#9c179e"
             ],
             [
              0.4444444444444444,
              "#bd3786"
             ],
             [
              0.5555555555555556,
              "#d8576b"
             ],
             [
              0.6666666666666666,
              "#ed7953"
             ],
             [
              0.7777777777777778,
              "#fb9f3a"
             ],
             [
              0.8888888888888888,
              "#fdca26"
             ],
             [
              1,
              "#f0f921"
             ]
            ],
            "type": "contour"
           }
          ],
          "contourcarpet": [
           {
            "colorbar": {
             "outlinewidth": 0,
             "ticks": ""
            },
            "type": "contourcarpet"
           }
          ],
          "heatmap": [
           {
            "colorbar": {
             "outlinewidth": 0,
             "ticks": ""
            },
            "colorscale": [
             [
              0,
              "#0d0887"
             ],
             [
              0.1111111111111111,
              "#46039f"
             ],
             [
              0.2222222222222222,
              "#7201a8"
             ],
             [
              0.3333333333333333,
              "#9c179e"
             ],
             [
              0.4444444444444444,
              "#bd3786"
             ],
             [
              0.5555555555555556,
              "#d8576b"
             ],
             [
              0.6666666666666666,
              "#ed7953"
             ],
             [
              0.7777777777777778,
              "#fb9f3a"
             ],
             [
              0.8888888888888888,
              "#fdca26"
             ],
             [
              1,
              "#f0f921"
             ]
            ],
            "type": "heatmap"
           }
          ],
          "heatmapgl": [
           {
            "colorbar": {
             "outlinewidth": 0,
             "ticks": ""
            },
            "colorscale": [
             [
              0,
              "#0d0887"
             ],
             [
              0.1111111111111111,
              "#46039f"
             ],
             [
              0.2222222222222222,
              "#7201a8"
             ],
             [
              0.3333333333333333,
              "#9c179e"
             ],
             [
              0.4444444444444444,
              "#bd3786"
             ],
             [
              0.5555555555555556,
              "#d8576b"
             ],
             [
              0.6666666666666666,
              "#ed7953"
             ],
             [
              0.7777777777777778,
              "#fb9f3a"
             ],
             [
              0.8888888888888888,
              "#fdca26"
             ],
             [
              1,
              "#f0f921"
             ]
            ],
            "type": "heatmapgl"
           }
          ],
          "histogram": [
           {
            "marker": {
             "pattern": {
              "fillmode": "overlay",
              "size": 10,
              "solidity": 0.2
             }
            },
            "type": "histogram"
           }
          ],
          "histogram2d": [
           {
            "colorbar": {
             "outlinewidth": 0,
             "ticks": ""
            },
            "colorscale": [
             [
              0,
              "#0d0887"
             ],
             [
              0.1111111111111111,
              "#46039f"
             ],
             [
              0.2222222222222222,
              "#7201a8"
             ],
             [
              0.3333333333333333,
              "#9c179e"
             ],
             [
              0.4444444444444444,
              "#bd3786"
             ],
             [
              0.5555555555555556,
              "#d8576b"
             ],
             [
              0.6666666666666666,
              "#ed7953"
             ],
             [
              0.7777777777777778,
              "#fb9f3a"
             ],
             [
              0.8888888888888888,
              "#fdca26"
             ],
             [
              1,
              "#f0f921"
             ]
            ],
            "type": "histogram2d"
           }
          ],
          "histogram2dcontour": [
           {
            "colorbar": {
             "outlinewidth": 0,
             "ticks": ""
            },
            "colorscale": [
             [
              0,
              "#0d0887"
             ],
             [
              0.1111111111111111,
              "#46039f"
             ],
             [
              0.2222222222222222,
              "#7201a8"
             ],
             [
              0.3333333333333333,
              "#9c179e"
             ],
             [
              0.4444444444444444,
              "#bd3786"
             ],
             [
              0.5555555555555556,
              "#d8576b"
             ],
             [
              0.6666666666666666,
              "#ed7953"
             ],
             [
              0.7777777777777778,
              "#fb9f3a"
             ],
             [
              0.8888888888888888,
              "#fdca26"
             ],
             [
              1,
              "#f0f921"
             ]
            ],
            "type": "histogram2dcontour"
           }
          ],
          "mesh3d": [
           {
            "colorbar": {
             "outlinewidth": 0,
             "ticks": ""
            },
            "type": "mesh3d"
           }
          ],
          "parcoords": [
           {
            "line": {
             "colorbar": {
              "outlinewidth": 0,
              "ticks": ""
             }
            },
            "type": "parcoords"
           }
          ],
          "pie": [
           {
            "automargin": true,
            "type": "pie"
           }
          ],
          "scatter": [
           {
            "fillpattern": {
             "fillmode": "overlay",
             "size": 10,
             "solidity": 0.2
            },
            "type": "scatter"
           }
          ],
          "scatter3d": [
           {
            "line": {
             "colorbar": {
              "outlinewidth": 0,
              "ticks": ""
             }
            },
            "marker": {
             "colorbar": {
              "outlinewidth": 0,
              "ticks": ""
             }
            },
            "type": "scatter3d"
           }
          ],
          "scattercarpet": [
           {
            "marker": {
             "colorbar": {
              "outlinewidth": 0,
              "ticks": ""
             }
            },
            "type": "scattercarpet"
           }
          ],
          "scattergeo": [
           {
            "marker": {
             "colorbar": {
              "outlinewidth": 0,
              "ticks": ""
             }
            },
            "type": "scattergeo"
           }
          ],
          "scattergl": [
           {
            "marker": {
             "colorbar": {
              "outlinewidth": 0,
              "ticks": ""
             }
            },
            "type": "scattergl"
           }
          ],
          "scattermapbox": [
           {
            "marker": {
             "colorbar": {
              "outlinewidth": 0,
              "ticks": ""
             }
            },
            "type": "scattermapbox"
           }
          ],
          "scatterpolar": [
           {
            "marker": {
             "colorbar": {
              "outlinewidth": 0,
              "ticks": ""
             }
            },
            "type": "scatterpolar"
           }
          ],
          "scatterpolargl": [
           {
            "marker": {
             "colorbar": {
              "outlinewidth": 0,
              "ticks": ""
             }
            },
            "type": "scatterpolargl"
           }
          ],
          "scatterternary": [
           {
            "marker": {
             "colorbar": {
              "outlinewidth": 0,
              "ticks": ""
             }
            },
            "type": "scatterternary"
           }
          ],
          "surface": [
           {
            "colorbar": {
             "outlinewidth": 0,
             "ticks": ""
            },
            "colorscale": [
             [
              0,
              "#0d0887"
             ],
             [
              0.1111111111111111,
              "#46039f"
             ],
             [
              0.2222222222222222,
              "#7201a8"
             ],
             [
              0.3333333333333333,
              "#9c179e"
             ],
             [
              0.4444444444444444,
              "#bd3786"
             ],
             [
              0.5555555555555556,
              "#d8576b"
             ],
             [
              0.6666666666666666,
              "#ed7953"
             ],
             [
              0.7777777777777778,
              "#fb9f3a"
             ],
             [
              0.8888888888888888,
              "#fdca26"
             ],
             [
              1,
              "#f0f921"
             ]
            ],
            "type": "surface"
           }
          ],
          "table": [
           {
            "cells": {
             "fill": {
              "color": "#EBF0F8"
             },
             "line": {
              "color": "white"
             }
            },
            "header": {
             "fill": {
              "color": "#C8D4E3"
             },
             "line": {
              "color": "white"
             }
            },
            "type": "table"
           }
          ]
         },
         "layout": {
          "annotationdefaults": {
           "arrowcolor": "#2a3f5f",
           "arrowhead": 0,
           "arrowwidth": 1
          },
          "autotypenumbers": "strict",
          "coloraxis": {
           "colorbar": {
            "outlinewidth": 0,
            "ticks": ""
           }
          },
          "colorscale": {
           "diverging": [
            [
             0,
             "#8e0152"
            ],
            [
             0.1,
             "#c51b7d"
            ],
            [
             0.2,
             "#de77ae"
            ],
            [
             0.3,
             "#f1b6da"
            ],
            [
             0.4,
             "#fde0ef"
            ],
            [
             0.5,
             "#f7f7f7"
            ],
            [
             0.6,
             "#e6f5d0"
            ],
            [
             0.7,
             "#b8e186"
            ],
            [
             0.8,
             "#7fbc41"
            ],
            [
             0.9,
             "#4d9221"
            ],
            [
             1,
             "#276419"
            ]
           ],
           "sequential": [
            [
             0,
             "#0d0887"
            ],
            [
             0.1111111111111111,
             "#46039f"
            ],
            [
             0.2222222222222222,
             "#7201a8"
            ],
            [
             0.3333333333333333,
             "#9c179e"
            ],
            [
             0.4444444444444444,
             "#bd3786"
            ],
            [
             0.5555555555555556,
             "#d8576b"
            ],
            [
             0.6666666666666666,
             "#ed7953"
            ],
            [
             0.7777777777777778,
             "#fb9f3a"
            ],
            [
             0.8888888888888888,
             "#fdca26"
            ],
            [
             1,
             "#f0f921"
            ]
           ],
           "sequentialminus": [
            [
             0,
             "#0d0887"
            ],
            [
             0.1111111111111111,
             "#46039f"
            ],
            [
             0.2222222222222222,
             "#7201a8"
            ],
            [
             0.3333333333333333,
             "#9c179e"
            ],
            [
             0.4444444444444444,
             "#bd3786"
            ],
            [
             0.5555555555555556,
             "#d8576b"
            ],
            [
             0.6666666666666666,
             "#ed7953"
            ],
            [
             0.7777777777777778,
             "#fb9f3a"
            ],
            [
             0.8888888888888888,
             "#fdca26"
            ],
            [
             1,
             "#f0f921"
            ]
           ]
          },
          "colorway": [
           "#636efa",
           "#EF553B",
           "#00cc96",
           "#ab63fa",
           "#FFA15A",
           "#19d3f3",
           "#FF6692",
           "#B6E880",
           "#FF97FF",
           "#FECB52"
          ],
          "font": {
           "color": "#2a3f5f"
          },
          "geo": {
           "bgcolor": "white",
           "lakecolor": "white",
           "landcolor": "#E5ECF6",
           "showlakes": true,
           "showland": true,
           "subunitcolor": "white"
          },
          "hoverlabel": {
           "align": "left"
          },
          "hovermode": "closest",
          "mapbox": {
           "style": "light"
          },
          "paper_bgcolor": "white",
          "plot_bgcolor": "#E5ECF6",
          "polar": {
           "angularaxis": {
            "gridcolor": "white",
            "linecolor": "white",
            "ticks": ""
           },
           "bgcolor": "#E5ECF6",
           "radialaxis": {
            "gridcolor": "white",
            "linecolor": "white",
            "ticks": ""
           }
          },
          "scene": {
           "xaxis": {
            "backgroundcolor": "#E5ECF6",
            "gridcolor": "white",
            "gridwidth": 2,
            "linecolor": "white",
            "showbackground": true,
            "ticks": "",
            "zerolinecolor": "white"
           },
           "yaxis": {
            "backgroundcolor": "#E5ECF6",
            "gridcolor": "white",
            "gridwidth": 2,
            "linecolor": "white",
            "showbackground": true,
            "ticks": "",
            "zerolinecolor": "white"
           },
           "zaxis": {
            "backgroundcolor": "#E5ECF6",
            "gridcolor": "white",
            "gridwidth": 2,
            "linecolor": "white",
            "showbackground": true,
            "ticks": "",
            "zerolinecolor": "white"
           }
          },
          "shapedefaults": {
           "line": {
            "color": "#2a3f5f"
           }
          },
          "ternary": {
           "aaxis": {
            "gridcolor": "white",
            "linecolor": "white",
            "ticks": ""
           },
           "baxis": {
            "gridcolor": "white",
            "linecolor": "white",
            "ticks": ""
           },
           "bgcolor": "#E5ECF6",
           "caxis": {
            "gridcolor": "white",
            "linecolor": "white",
            "ticks": ""
           }
          },
          "title": {
           "x": 0.05
          },
          "xaxis": {
           "automargin": true,
           "gridcolor": "white",
           "linecolor": "white",
           "ticks": "",
           "title": {
            "standoff": 15
           },
           "zerolinecolor": "white",
           "zerolinewidth": 2
          },
          "yaxis": {
           "automargin": true,
           "gridcolor": "white",
           "linecolor": "white",
           "ticks": "",
           "title": {
            "standoff": 15
           },
           "zerolinecolor": "white",
           "zerolinewidth": 2
          }
         }
        },
        "title": {
         "text": "Previsao da Saida de Agua",
         "x": 0.5,
         "xanchor": "center"
        },
        "xaxis": {
         "title": {
          "text": "Horario"
         }
        },
        "yaxis": {
         "title": {
          "text": "Saida de Agua (L/s)"
         }
        }
       }
      }
     },
     "metadata": {},
     "output_type": "display_data"
    }
   ],
   "source": [
    "fig = create_questions_4_and_7_plot_1(df)\n",
    "fig.show()"
   ]
  }
 ],
 "metadata": {
  "kernelspec": {
   "display_name": "pcd",
   "language": "python",
   "name": "python3"
  },
  "language_info": {
   "codemirror_mode": {
    "name": "ipython",
    "version": 3
   },
   "file_extension": ".py",
   "mimetype": "text/x-python",
   "name": "python",
   "nbconvert_exporter": "python",
   "pygments_lexer": "ipython3",
   "version": "3.12.2"
  }
 },
 "nbformat": 4,
 "nbformat_minor": 2
}
