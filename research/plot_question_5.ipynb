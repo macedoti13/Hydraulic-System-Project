{
 "cells": [
  {
   "cell_type": "code",
   "execution_count": 2,
   "metadata": {},
   "outputs": [],
   "source": [
    "import plotly.graph_objects as go\n",
    "import pandas as pd\n",
    "pd.set_option('display.max_columns', None)\n",
    "pd.set_option('display.max_rows', None)"
   ]
  },
  {
   "cell_type": "code",
   "execution_count": 13,
   "metadata": {},
   "outputs": [
    {
     "data": {
      "text/html": [
       "<div>\n",
       "<style scoped>\n",
       "    .dataframe tbody tr th:only-of-type {\n",
       "        vertical-align: middle;\n",
       "    }\n",
       "\n",
       "    .dataframe tbody tr th {\n",
       "        vertical-align: top;\n",
       "    }\n",
       "\n",
       "    .dataframe thead th {\n",
       "        text-align: right;\n",
       "    }\n",
       "</style>\n",
       "<table border=\"1\" class=\"dataframe\">\n",
       "  <thead>\n",
       "    <tr style=\"text-align: right;\">\n",
       "      <th></th>\n",
       "      <th>timestamp</th>\n",
       "      <th>output_flow_rate_mean_no_weather</th>\n",
       "      <th>reservoir_level_percentage_last_no_weather</th>\n",
       "      <th>output_flow_rate_mean_weather</th>\n",
       "      <th>reservoir_level_percentage_last_weather</th>\n",
       "      <th>forecasted</th>\n",
       "    </tr>\n",
       "  </thead>\n",
       "  <tbody>\n",
       "    <tr>\n",
       "      <th>0</th>\n",
       "      <td>2023-11-12 19:00:00</td>\n",
       "      <td>0.367319</td>\n",
       "      <td>63.400000</td>\n",
       "      <td>0.367319</td>\n",
       "      <td>63.400000</td>\n",
       "      <td>False</td>\n",
       "    </tr>\n",
       "    <tr>\n",
       "      <th>1</th>\n",
       "      <td>2023-11-12 20:00:00</td>\n",
       "      <td>0.367319</td>\n",
       "      <td>63.400000</td>\n",
       "      <td>0.367319</td>\n",
       "      <td>63.400000</td>\n",
       "      <td>False</td>\n",
       "    </tr>\n",
       "    <tr>\n",
       "      <th>2</th>\n",
       "      <td>2023-11-12 21:00:00</td>\n",
       "      <td>0.367319</td>\n",
       "      <td>63.400000</td>\n",
       "      <td>0.367319</td>\n",
       "      <td>63.400000</td>\n",
       "      <td>False</td>\n",
       "    </tr>\n",
       "    <tr>\n",
       "      <th>3</th>\n",
       "      <td>2023-11-12 22:00:00</td>\n",
       "      <td>2.444305</td>\n",
       "      <td>10.500000</td>\n",
       "      <td>2.444305</td>\n",
       "      <td>10.500000</td>\n",
       "      <td>False</td>\n",
       "    </tr>\n",
       "    <tr>\n",
       "      <th>4</th>\n",
       "      <td>2023-11-12 23:00:00</td>\n",
       "      <td>4.521290</td>\n",
       "      <td>10.500000</td>\n",
       "      <td>4.521290</td>\n",
       "      <td>10.500000</td>\n",
       "      <td>False</td>\n",
       "    </tr>\n",
       "    <tr>\n",
       "      <th>5</th>\n",
       "      <td>2023-11-13 00:00:00</td>\n",
       "      <td>4.521290</td>\n",
       "      <td>10.500000</td>\n",
       "      <td>4.521290</td>\n",
       "      <td>10.500000</td>\n",
       "      <td>False</td>\n",
       "    </tr>\n",
       "    <tr>\n",
       "      <th>6</th>\n",
       "      <td>2023-11-13 01:00:00</td>\n",
       "      <td>4.521290</td>\n",
       "      <td>10.500000</td>\n",
       "      <td>4.521290</td>\n",
       "      <td>10.500000</td>\n",
       "      <td>False</td>\n",
       "    </tr>\n",
       "    <tr>\n",
       "      <th>7</th>\n",
       "      <td>2023-11-13 02:00:00</td>\n",
       "      <td>4.521290</td>\n",
       "      <td>10.500000</td>\n",
       "      <td>4.521290</td>\n",
       "      <td>10.500000</td>\n",
       "      <td>False</td>\n",
       "    </tr>\n",
       "    <tr>\n",
       "      <th>8</th>\n",
       "      <td>2023-11-13 03:00:00</td>\n",
       "      <td>4.521290</td>\n",
       "      <td>10.500000</td>\n",
       "      <td>4.521290</td>\n",
       "      <td>10.500000</td>\n",
       "      <td>False</td>\n",
       "    </tr>\n",
       "    <tr>\n",
       "      <th>9</th>\n",
       "      <td>2023-11-13 04:00:00</td>\n",
       "      <td>4.521290</td>\n",
       "      <td>10.500000</td>\n",
       "      <td>4.521290</td>\n",
       "      <td>10.500000</td>\n",
       "      <td>False</td>\n",
       "    </tr>\n",
       "    <tr>\n",
       "      <th>10</th>\n",
       "      <td>2023-11-13 05:00:00</td>\n",
       "      <td>4.521290</td>\n",
       "      <td>10.500000</td>\n",
       "      <td>4.521290</td>\n",
       "      <td>10.500000</td>\n",
       "      <td>False</td>\n",
       "    </tr>\n",
       "    <tr>\n",
       "      <th>11</th>\n",
       "      <td>2023-11-13 06:00:00</td>\n",
       "      <td>4.521290</td>\n",
       "      <td>10.500000</td>\n",
       "      <td>4.521290</td>\n",
       "      <td>10.500000</td>\n",
       "      <td>False</td>\n",
       "    </tr>\n",
       "    <tr>\n",
       "      <th>12</th>\n",
       "      <td>2023-11-13 07:00:00</td>\n",
       "      <td>4.521290</td>\n",
       "      <td>10.500000</td>\n",
       "      <td>4.521290</td>\n",
       "      <td>10.500000</td>\n",
       "      <td>False</td>\n",
       "    </tr>\n",
       "    <tr>\n",
       "      <th>13</th>\n",
       "      <td>2023-11-13 08:00:00</td>\n",
       "      <td>4.521290</td>\n",
       "      <td>10.500000</td>\n",
       "      <td>4.521290</td>\n",
       "      <td>10.500000</td>\n",
       "      <td>False</td>\n",
       "    </tr>\n",
       "    <tr>\n",
       "      <th>14</th>\n",
       "      <td>2023-11-13 09:00:00</td>\n",
       "      <td>4.521290</td>\n",
       "      <td>10.500000</td>\n",
       "      <td>4.521290</td>\n",
       "      <td>10.500000</td>\n",
       "      <td>False</td>\n",
       "    </tr>\n",
       "    <tr>\n",
       "      <th>15</th>\n",
       "      <td>2023-11-13 10:00:00</td>\n",
       "      <td>4.521290</td>\n",
       "      <td>10.500000</td>\n",
       "      <td>4.521290</td>\n",
       "      <td>10.500000</td>\n",
       "      <td>False</td>\n",
       "    </tr>\n",
       "    <tr>\n",
       "      <th>16</th>\n",
       "      <td>2023-11-13 11:00:00</td>\n",
       "      <td>4.521290</td>\n",
       "      <td>10.500000</td>\n",
       "      <td>4.521290</td>\n",
       "      <td>10.500000</td>\n",
       "      <td>False</td>\n",
       "    </tr>\n",
       "    <tr>\n",
       "      <th>17</th>\n",
       "      <td>2023-11-13 12:00:00</td>\n",
       "      <td>4.521290</td>\n",
       "      <td>10.500000</td>\n",
       "      <td>4.521290</td>\n",
       "      <td>10.500000</td>\n",
       "      <td>False</td>\n",
       "    </tr>\n",
       "    <tr>\n",
       "      <th>18</th>\n",
       "      <td>2023-11-13 13:00:00</td>\n",
       "      <td>4.521290</td>\n",
       "      <td>10.500000</td>\n",
       "      <td>4.521290</td>\n",
       "      <td>10.500000</td>\n",
       "      <td>False</td>\n",
       "    </tr>\n",
       "    <tr>\n",
       "      <th>19</th>\n",
       "      <td>2023-11-13 14:00:00</td>\n",
       "      <td>5.950604</td>\n",
       "      <td>8.357783</td>\n",
       "      <td>6.073550</td>\n",
       "      <td>8.313522</td>\n",
       "      <td>True</td>\n",
       "    </tr>\n",
       "    <tr>\n",
       "      <th>20</th>\n",
       "      <td>2023-11-13 15:00:00</td>\n",
       "      <td>5.778018</td>\n",
       "      <td>6.277696</td>\n",
       "      <td>4.186624</td>\n",
       "      <td>6.806337</td>\n",
       "      <td>True</td>\n",
       "    </tr>\n",
       "    <tr>\n",
       "      <th>21</th>\n",
       "      <td>2023-11-13 16:00:00</td>\n",
       "      <td>8.420990</td>\n",
       "      <td>3.246140</td>\n",
       "      <td>6.471616</td>\n",
       "      <td>4.476556</td>\n",
       "      <td>True</td>\n",
       "    </tr>\n",
       "    <tr>\n",
       "      <th>22</th>\n",
       "      <td>2023-11-13 17:00:00</td>\n",
       "      <td>8.815169</td>\n",
       "      <td>0.072679</td>\n",
       "      <td>7.203709</td>\n",
       "      <td>1.883221</td>\n",
       "      <td>True</td>\n",
       "    </tr>\n",
       "    <tr>\n",
       "      <th>23</th>\n",
       "      <td>2023-11-13 18:00:00</td>\n",
       "      <td>8.026116</td>\n",
       "      <td>-2.816723</td>\n",
       "      <td>8.961888</td>\n",
       "      <td>-1.343059</td>\n",
       "      <td>True</td>\n",
       "    </tr>\n",
       "  </tbody>\n",
       "</table>\n",
       "</div>"
      ],
      "text/plain": [
       "             timestamp  output_flow_rate_mean_no_weather  \\\n",
       "0  2023-11-12 19:00:00                          0.367319   \n",
       "1  2023-11-12 20:00:00                          0.367319   \n",
       "2  2023-11-12 21:00:00                          0.367319   \n",
       "3  2023-11-12 22:00:00                          2.444305   \n",
       "4  2023-11-12 23:00:00                          4.521290   \n",
       "5  2023-11-13 00:00:00                          4.521290   \n",
       "6  2023-11-13 01:00:00                          4.521290   \n",
       "7  2023-11-13 02:00:00                          4.521290   \n",
       "8  2023-11-13 03:00:00                          4.521290   \n",
       "9  2023-11-13 04:00:00                          4.521290   \n",
       "10 2023-11-13 05:00:00                          4.521290   \n",
       "11 2023-11-13 06:00:00                          4.521290   \n",
       "12 2023-11-13 07:00:00                          4.521290   \n",
       "13 2023-11-13 08:00:00                          4.521290   \n",
       "14 2023-11-13 09:00:00                          4.521290   \n",
       "15 2023-11-13 10:00:00                          4.521290   \n",
       "16 2023-11-13 11:00:00                          4.521290   \n",
       "17 2023-11-13 12:00:00                          4.521290   \n",
       "18 2023-11-13 13:00:00                          4.521290   \n",
       "19 2023-11-13 14:00:00                          5.950604   \n",
       "20 2023-11-13 15:00:00                          5.778018   \n",
       "21 2023-11-13 16:00:00                          8.420990   \n",
       "22 2023-11-13 17:00:00                          8.815169   \n",
       "23 2023-11-13 18:00:00                          8.026116   \n",
       "\n",
       "    reservoir_level_percentage_last_no_weather  output_flow_rate_mean_weather  \\\n",
       "0                                    63.400000                       0.367319   \n",
       "1                                    63.400000                       0.367319   \n",
       "2                                    63.400000                       0.367319   \n",
       "3                                    10.500000                       2.444305   \n",
       "4                                    10.500000                       4.521290   \n",
       "5                                    10.500000                       4.521290   \n",
       "6                                    10.500000                       4.521290   \n",
       "7                                    10.500000                       4.521290   \n",
       "8                                    10.500000                       4.521290   \n",
       "9                                    10.500000                       4.521290   \n",
       "10                                   10.500000                       4.521290   \n",
       "11                                   10.500000                       4.521290   \n",
       "12                                   10.500000                       4.521290   \n",
       "13                                   10.500000                       4.521290   \n",
       "14                                   10.500000                       4.521290   \n",
       "15                                   10.500000                       4.521290   \n",
       "16                                   10.500000                       4.521290   \n",
       "17                                   10.500000                       4.521290   \n",
       "18                                   10.500000                       4.521290   \n",
       "19                                    8.357783                       6.073550   \n",
       "20                                    6.277696                       4.186624   \n",
       "21                                    3.246140                       6.471616   \n",
       "22                                    0.072679                       7.203709   \n",
       "23                                   -2.816723                       8.961888   \n",
       "\n",
       "    reservoir_level_percentage_last_weather  forecasted  \n",
       "0                                 63.400000       False  \n",
       "1                                 63.400000       False  \n",
       "2                                 63.400000       False  \n",
       "3                                 10.500000       False  \n",
       "4                                 10.500000       False  \n",
       "5                                 10.500000       False  \n",
       "6                                 10.500000       False  \n",
       "7                                 10.500000       False  \n",
       "8                                 10.500000       False  \n",
       "9                                 10.500000       False  \n",
       "10                                10.500000       False  \n",
       "11                                10.500000       False  \n",
       "12                                10.500000       False  \n",
       "13                                10.500000       False  \n",
       "14                                10.500000       False  \n",
       "15                                10.500000       False  \n",
       "16                                10.500000       False  \n",
       "17                                10.500000       False  \n",
       "18                                10.500000       False  \n",
       "19                                 8.313522        True  \n",
       "20                                 6.806337        True  \n",
       "21                                 4.476556        True  \n",
       "22                                 1.883221        True  \n",
       "23                                -1.343059        True  "
      ]
     },
     "execution_count": 13,
     "metadata": {},
     "output_type": "execute_result"
    }
   ],
   "source": [
    "df = pd.read_parquet(\"../data/gold/question_5_answer.parquet\")\n",
    "df"
   ]
  },
  {
   "cell_type": "code",
   "execution_count": 14,
   "metadata": {},
   "outputs": [],
   "source": [
    "def create_question_5_plot(input_df):\n",
    "    df = input_df.copy()\n",
    "    real_data = df[df.forecasted==False].tail()\n",
    "    simulation_data = df[df.forecasted==True]\n",
    "\n",
    "    fig = go.Figure()\n",
    "    fig.add_trace(go.Scatter(x=real_data.timestamp, y=real_data.reservoir_level_percentage_last_no_weather, mode='lines+markers', name='Nivel do Reservatorio Real', line=dict(color='blue')))\n",
    "    fig.add_trace(go.Scatter(x=simulation_data.timestamp, y=simulation_data.reservoir_level_percentage_last_no_weather, mode='lines+markers', name='Nivel do Reservatorio Simulado', line=dict(color='red')))\n",
    "    fig.add_trace(go.Scatter(x=simulation_data.timestamp, y=simulation_data.reservoir_level_percentage_last_weather, mode='lines+markers', name='Nivel do Reservatorio Simulado', line=dict(color='green')))\n",
    "    fig.update_layout(title={'text': 'Simulacao de Esvaziamento do Reservatorio em Queda de Energia', 'x': 0.5, 'xanchor': 'center'},xaxis_title='Horario', yaxis_title='Porcentagem do Reservatorio',legend_title='Type')\n",
    "    return fig\n"
   ]
  },
  {
   "cell_type": "code",
   "execution_count": 15,
   "metadata": {},
   "outputs": [
    {
     "data": {
      "application/vnd.plotly.v1+json": {
       "config": {
        "plotlyServerURL": "https://plot.ly"
       },
       "data": [
        {
         "line": {
          "color": "blue"
         },
         "mode": "lines+markers",
         "name": "Nivel do Reservatorio Real",
         "type": "scatter",
         "x": [
          "2023-11-13T09:00:00",
          "2023-11-13T10:00:00",
          "2023-11-13T11:00:00",
          "2023-11-13T12:00:00",
          "2023-11-13T13:00:00"
         ],
         "y": [
          10.5,
          10.5,
          10.5,
          10.5,
          10.5
         ]
        },
        {
         "line": {
          "color": "red"
         },
         "mode": "lines+markers",
         "name": "Nivel do Reservatorio Simulado",
         "type": "scatter",
         "x": [
          "2023-11-13T14:00:00",
          "2023-11-13T15:00:00",
          "2023-11-13T16:00:00",
          "2023-11-13T17:00:00",
          "2023-11-13T18:00:00"
         ],
         "y": [
          8.357782641067086,
          6.277696036128161,
          3.2461397713839375,
          0.07267901783775832,
          -2.816722711851304
         ]
        },
        {
         "line": {
          "color": "green"
         },
         "mode": "lines+markers",
         "name": "Nivel do Reservatorio Simulado",
         "type": "scatter",
         "x": [
          "2023-11-13T14:00:00",
          "2023-11-13T15:00:00",
          "2023-11-13T16:00:00",
          "2023-11-13T17:00:00",
          "2023-11-13T18:00:00"
         ],
         "y": [
          8.313522029532969,
          6.806337481764912,
          4.476555799883543,
          1.883220603521583,
          -1.3430592291852865
         ]
        }
       ],
       "layout": {
        "legend": {
         "title": {
          "text": "Type"
         }
        },
        "template": {
         "data": {
          "bar": [
           {
            "error_x": {
             "color": "#2a3f5f"
            },
            "error_y": {
             "color": "#2a3f5f"
            },
            "marker": {
             "line": {
              "color": "#E5ECF6",
              "width": 0.5
             },
             "pattern": {
              "fillmode": "overlay",
              "size": 10,
              "solidity": 0.2
             }
            },
            "type": "bar"
           }
          ],
          "barpolar": [
           {
            "marker": {
             "line": {
              "color": "#E5ECF6",
              "width": 0.5
             },
             "pattern": {
              "fillmode": "overlay",
              "size": 10,
              "solidity": 0.2
             }
            },
            "type": "barpolar"
           }
          ],
          "carpet": [
           {
            "aaxis": {
             "endlinecolor": "#2a3f5f",
             "gridcolor": "white",
             "linecolor": "white",
             "minorgridcolor": "white",
             "startlinecolor": "#2a3f5f"
            },
            "baxis": {
             "endlinecolor": "#2a3f5f",
             "gridcolor": "white",
             "linecolor": "white",
             "minorgridcolor": "white",
             "startlinecolor": "#2a3f5f"
            },
            "type": "carpet"
           }
          ],
          "choropleth": [
           {
            "colorbar": {
             "outlinewidth": 0,
             "ticks": ""
            },
            "type": "choropleth"
           }
          ],
          "contour": [
           {
            "colorbar": {
             "outlinewidth": 0,
             "ticks": ""
            },
            "colorscale": [
             [
              0,
              "#0d0887"
             ],
             [
              0.1111111111111111,
              "#46039f"
             ],
             [
              0.2222222222222222,
              "#7201a8"
             ],
             [
              0.3333333333333333,
              "#9c179e"
             ],
             [
              0.4444444444444444,
              "#bd3786"
             ],
             [
              0.5555555555555556,
              "#d8576b"
             ],
             [
              0.6666666666666666,
              "#ed7953"
             ],
             [
              0.7777777777777778,
              "#fb9f3a"
             ],
             [
              0.8888888888888888,
              "#fdca26"
             ],
             [
              1,
              "#f0f921"
             ]
            ],
            "type": "contour"
           }
          ],
          "contourcarpet": [
           {
            "colorbar": {
             "outlinewidth": 0,
             "ticks": ""
            },
            "type": "contourcarpet"
           }
          ],
          "heatmap": [
           {
            "colorbar": {
             "outlinewidth": 0,
             "ticks": ""
            },
            "colorscale": [
             [
              0,
              "#0d0887"
             ],
             [
              0.1111111111111111,
              "#46039f"
             ],
             [
              0.2222222222222222,
              "#7201a8"
             ],
             [
              0.3333333333333333,
              "#9c179e"
             ],
             [
              0.4444444444444444,
              "#bd3786"
             ],
             [
              0.5555555555555556,
              "#d8576b"
             ],
             [
              0.6666666666666666,
              "#ed7953"
             ],
             [
              0.7777777777777778,
              "#fb9f3a"
             ],
             [
              0.8888888888888888,
              "#fdca26"
             ],
             [
              1,
              "#f0f921"
             ]
            ],
            "type": "heatmap"
           }
          ],
          "heatmapgl": [
           {
            "colorbar": {
             "outlinewidth": 0,
             "ticks": ""
            },
            "colorscale": [
             [
              0,
              "#0d0887"
             ],
             [
              0.1111111111111111,
              "#46039f"
             ],
             [
              0.2222222222222222,
              "#7201a8"
             ],
             [
              0.3333333333333333,
              "#9c179e"
             ],
             [
              0.4444444444444444,
              "#bd3786"
             ],
             [
              0.5555555555555556,
              "#d8576b"
             ],
             [
              0.6666666666666666,
              "#ed7953"
             ],
             [
              0.7777777777777778,
              "#fb9f3a"
             ],
             [
              0.8888888888888888,
              "#fdca26"
             ],
             [
              1,
              "#f0f921"
             ]
            ],
            "type": "heatmapgl"
           }
          ],
          "histogram": [
           {
            "marker": {
             "pattern": {
              "fillmode": "overlay",
              "size": 10,
              "solidity": 0.2
             }
            },
            "type": "histogram"
           }
          ],
          "histogram2d": [
           {
            "colorbar": {
             "outlinewidth": 0,
             "ticks": ""
            },
            "colorscale": [
             [
              0,
              "#0d0887"
             ],
             [
              0.1111111111111111,
              "#46039f"
             ],
             [
              0.2222222222222222,
              "#7201a8"
             ],
             [
              0.3333333333333333,
              "#9c179e"
             ],
             [
              0.4444444444444444,
              "#bd3786"
             ],
             [
              0.5555555555555556,
              "#d8576b"
             ],
             [
              0.6666666666666666,
              "#ed7953"
             ],
             [
              0.7777777777777778,
              "#fb9f3a"
             ],
             [
              0.8888888888888888,
              "#fdca26"
             ],
             [
              1,
              "#f0f921"
             ]
            ],
            "type": "histogram2d"
           }
          ],
          "histogram2dcontour": [
           {
            "colorbar": {
             "outlinewidth": 0,
             "ticks": ""
            },
            "colorscale": [
             [
              0,
              "#0d0887"
             ],
             [
              0.1111111111111111,
              "#46039f"
             ],
             [
              0.2222222222222222,
              "#7201a8"
             ],
             [
              0.3333333333333333,
              "#9c179e"
             ],
             [
              0.4444444444444444,
              "#bd3786"
             ],
             [
              0.5555555555555556,
              "#d8576b"
             ],
             [
              0.6666666666666666,
              "#ed7953"
             ],
             [
              0.7777777777777778,
              "#fb9f3a"
             ],
             [
              0.8888888888888888,
              "#fdca26"
             ],
             [
              1,
              "#f0f921"
             ]
            ],
            "type": "histogram2dcontour"
           }
          ],
          "mesh3d": [
           {
            "colorbar": {
             "outlinewidth": 0,
             "ticks": ""
            },
            "type": "mesh3d"
           }
          ],
          "parcoords": [
           {
            "line": {
             "colorbar": {
              "outlinewidth": 0,
              "ticks": ""
             }
            },
            "type": "parcoords"
           }
          ],
          "pie": [
           {
            "automargin": true,
            "type": "pie"
           }
          ],
          "scatter": [
           {
            "fillpattern": {
             "fillmode": "overlay",
             "size": 10,
             "solidity": 0.2
            },
            "type": "scatter"
           }
          ],
          "scatter3d": [
           {
            "line": {
             "colorbar": {
              "outlinewidth": 0,
              "ticks": ""
             }
            },
            "marker": {
             "colorbar": {
              "outlinewidth": 0,
              "ticks": ""
             }
            },
            "type": "scatter3d"
           }
          ],
          "scattercarpet": [
           {
            "marker": {
             "colorbar": {
              "outlinewidth": 0,
              "ticks": ""
             }
            },
            "type": "scattercarpet"
           }
          ],
          "scattergeo": [
           {
            "marker": {
             "colorbar": {
              "outlinewidth": 0,
              "ticks": ""
             }
            },
            "type": "scattergeo"
           }
          ],
          "scattergl": [
           {
            "marker": {
             "colorbar": {
              "outlinewidth": 0,
              "ticks": ""
             }
            },
            "type": "scattergl"
           }
          ],
          "scattermapbox": [
           {
            "marker": {
             "colorbar": {
              "outlinewidth": 0,
              "ticks": ""
             }
            },
            "type": "scattermapbox"
           }
          ],
          "scatterpolar": [
           {
            "marker": {
             "colorbar": {
              "outlinewidth": 0,
              "ticks": ""
             }
            },
            "type": "scatterpolar"
           }
          ],
          "scatterpolargl": [
           {
            "marker": {
             "colorbar": {
              "outlinewidth": 0,
              "ticks": ""
             }
            },
            "type": "scatterpolargl"
           }
          ],
          "scatterternary": [
           {
            "marker": {
             "colorbar": {
              "outlinewidth": 0,
              "ticks": ""
             }
            },
            "type": "scatterternary"
           }
          ],
          "surface": [
           {
            "colorbar": {
             "outlinewidth": 0,
             "ticks": ""
            },
            "colorscale": [
             [
              0,
              "#0d0887"
             ],
             [
              0.1111111111111111,
              "#46039f"
             ],
             [
              0.2222222222222222,
              "#7201a8"
             ],
             [
              0.3333333333333333,
              "#9c179e"
             ],
             [
              0.4444444444444444,
              "#bd3786"
             ],
             [
              0.5555555555555556,
              "#d8576b"
             ],
             [
              0.6666666666666666,
              "#ed7953"
             ],
             [
              0.7777777777777778,
              "#fb9f3a"
             ],
             [
              0.8888888888888888,
              "#fdca26"
             ],
             [
              1,
              "#f0f921"
             ]
            ],
            "type": "surface"
           }
          ],
          "table": [
           {
            "cells": {
             "fill": {
              "color": "#EBF0F8"
             },
             "line": {
              "color": "white"
             }
            },
            "header": {
             "fill": {
              "color": "#C8D4E3"
             },
             "line": {
              "color": "white"
             }
            },
            "type": "table"
           }
          ]
         },
         "layout": {
          "annotationdefaults": {
           "arrowcolor": "#2a3f5f",
           "arrowhead": 0,
           "arrowwidth": 1
          },
          "autotypenumbers": "strict",
          "coloraxis": {
           "colorbar": {
            "outlinewidth": 0,
            "ticks": ""
           }
          },
          "colorscale": {
           "diverging": [
            [
             0,
             "#8e0152"
            ],
            [
             0.1,
             "#c51b7d"
            ],
            [
             0.2,
             "#de77ae"
            ],
            [
             0.3,
             "#f1b6da"
            ],
            [
             0.4,
             "#fde0ef"
            ],
            [
             0.5,
             "#f7f7f7"
            ],
            [
             0.6,
             "#e6f5d0"
            ],
            [
             0.7,
             "#b8e186"
            ],
            [
             0.8,
             "#7fbc41"
            ],
            [
             0.9,
             "#4d9221"
            ],
            [
             1,
             "#276419"
            ]
           ],
           "sequential": [
            [
             0,
             "#0d0887"
            ],
            [
             0.1111111111111111,
             "#46039f"
            ],
            [
             0.2222222222222222,
             "#7201a8"
            ],
            [
             0.3333333333333333,
             "#9c179e"
            ],
            [
             0.4444444444444444,
             "#bd3786"
            ],
            [
             0.5555555555555556,
             "#d8576b"
            ],
            [
             0.6666666666666666,
             "#ed7953"
            ],
            [
             0.7777777777777778,
             "#fb9f3a"
            ],
            [
             0.8888888888888888,
             "#fdca26"
            ],
            [
             1,
             "#f0f921"
            ]
           ],
           "sequentialminus": [
            [
             0,
             "#0d0887"
            ],
            [
             0.1111111111111111,
             "#46039f"
            ],
            [
             0.2222222222222222,
             "#7201a8"
            ],
            [
             0.3333333333333333,
             "#9c179e"
            ],
            [
             0.4444444444444444,
             "#bd3786"
            ],
            [
             0.5555555555555556,
             "#d8576b"
            ],
            [
             0.6666666666666666,
             "#ed7953"
            ],
            [
             0.7777777777777778,
             "#fb9f3a"
            ],
            [
             0.8888888888888888,
             "#fdca26"
            ],
            [
             1,
             "#f0f921"
            ]
           ]
          },
          "colorway": [
           "#636efa",
           "#EF553B",
           "#00cc96",
           "#ab63fa",
           "#FFA15A",
           "#19d3f3",
           "#FF6692",
           "#B6E880",
           "#FF97FF",
           "#FECB52"
          ],
          "font": {
           "color": "#2a3f5f"
          },
          "geo": {
           "bgcolor": "white",
           "lakecolor": "white",
           "landcolor": "#E5ECF6",
           "showlakes": true,
           "showland": true,
           "subunitcolor": "white"
          },
          "hoverlabel": {
           "align": "left"
          },
          "hovermode": "closest",
          "mapbox": {
           "style": "light"
          },
          "paper_bgcolor": "white",
          "plot_bgcolor": "#E5ECF6",
          "polar": {
           "angularaxis": {
            "gridcolor": "white",
            "linecolor": "white",
            "ticks": ""
           },
           "bgcolor": "#E5ECF6",
           "radialaxis": {
            "gridcolor": "white",
            "linecolor": "white",
            "ticks": ""
           }
          },
          "scene": {
           "xaxis": {
            "backgroundcolor": "#E5ECF6",
            "gridcolor": "white",
            "gridwidth": 2,
            "linecolor": "white",
            "showbackground": true,
            "ticks": "",
            "zerolinecolor": "white"
           },
           "yaxis": {
            "backgroundcolor": "#E5ECF6",
            "gridcolor": "white",
            "gridwidth": 2,
            "linecolor": "white",
            "showbackground": true,
            "ticks": "",
            "zerolinecolor": "white"
           },
           "zaxis": {
            "backgroundcolor": "#E5ECF6",
            "gridcolor": "white",
            "gridwidth": 2,
            "linecolor": "white",
            "showbackground": true,
            "ticks": "",
            "zerolinecolor": "white"
           }
          },
          "shapedefaults": {
           "line": {
            "color": "#2a3f5f"
           }
          },
          "ternary": {
           "aaxis": {
            "gridcolor": "white",
            "linecolor": "white",
            "ticks": ""
           },
           "baxis": {
            "gridcolor": "white",
            "linecolor": "white",
            "ticks": ""
           },
           "bgcolor": "#E5ECF6",
           "caxis": {
            "gridcolor": "white",
            "linecolor": "white",
            "ticks": ""
           }
          },
          "title": {
           "x": 0.05
          },
          "xaxis": {
           "automargin": true,
           "gridcolor": "white",
           "linecolor": "white",
           "ticks": "",
           "title": {
            "standoff": 15
           },
           "zerolinecolor": "white",
           "zerolinewidth": 2
          },
          "yaxis": {
           "automargin": true,
           "gridcolor": "white",
           "linecolor": "white",
           "ticks": "",
           "title": {
            "standoff": 15
           },
           "zerolinecolor": "white",
           "zerolinewidth": 2
          }
         }
        },
        "title": {
         "text": "Simulacao de Esvaziamento do Reservatorio em Queda de Energia",
         "x": 0.5,
         "xanchor": "center"
        },
        "xaxis": {
         "title": {
          "text": "Horario"
         }
        },
        "yaxis": {
         "title": {
          "text": "Porcentagem do Reservatorio"
         }
        }
       }
      }
     },
     "metadata": {},
     "output_type": "display_data"
    }
   ],
   "source": [
    "fig = create_question_5_plot(df)\n",
    "fig.show()"
   ]
  }
 ],
 "metadata": {
  "kernelspec": {
   "display_name": "pcd",
   "language": "python",
   "name": "python3"
  },
  "language_info": {
   "codemirror_mode": {
    "name": "ipython",
    "version": 3
   },
   "file_extension": ".py",
   "mimetype": "text/x-python",
   "name": "python",
   "nbconvert_exporter": "python",
   "pygments_lexer": "ipython3",
   "version": "3.12.2"
  }
 },
 "nbformat": 4,
 "nbformat_minor": 2
}
